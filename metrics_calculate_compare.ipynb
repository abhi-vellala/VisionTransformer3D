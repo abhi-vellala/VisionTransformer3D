{
 "cells": [
  {
   "cell_type": "code",
   "execution_count": 1,
   "id": "03ef11c7-9e93-440b-9955-c886785339e8",
   "metadata": {
    "tags": []
   },
   "outputs": [],
   "source": [
    "import torch\n",
    "import matplotlib.pyplot as plt\n",
    "import numpy as np\n",
    "import pandas as pd\n",
    "from dataloader import CTScanData\n",
    "from vit_model import VisionTransformer3D, UpsampleAttentionMap\n",
    "import random\n",
    "from sklearn.model_selection import train_test_split\n",
    "from monai.transforms import (\n",
    "    Compose, EnsureChannelFirst, ScaleIntensity, RandRotate90, RandFlip,\n",
    "    RandZoom, RandGaussianNoise, SpatialPad, RandAffine, ToNumpy, ToTensor\n",
    ")\n",
    "from sklearn.metrics import (\n",
    "    confusion_matrix, classification_report, roc_curve, auc, roc_auc_score\n",
    ")\n",
    "from sklearn.ensemble import RandomForestClassifier\n",
    "from sklearn.preprocessing import label_binarize"
   ]
  },
  {
   "cell_type": "code",
   "execution_count": 2,
   "id": "7772cde2-b4f6-447b-9fb2-35474d5df826",
   "metadata": {
    "tags": []
   },
   "outputs": [],
   "source": [
    "# Set device\n",
    "device = torch.device('cuda' if torch.cuda.is_available() else 'cpu')"
   ]
  },
  {
   "cell_type": "code",
   "execution_count": 3,
   "id": "9e45b9a5-ec78-4b3e-9a85-0231d95525ed",
   "metadata": {
    "tags": []
   },
   "outputs": [],
   "source": [
    "# Function to remove 'module.' prefix from state_dict keys\n",
    "def remove_module_prefix(state_dict):\n",
    "    new_state_dict = {}\n",
    "    for k, v in state_dict.items():\n",
    "        if k.startswith('module.'):\n",
    "            new_state_dict[k[7:]] = v\n",
    "        else:\n",
    "            new_state_dict[k] = v\n",
    "    return new_state_dict"
   ]
  },
  {
   "cell_type": "code",
   "execution_count": 4,
   "id": "4810eac8-9728-42e1-b7a2-ab33facc2a82",
   "metadata": {
    "scrolled": true,
    "tags": []
   },
   "outputs": [
    {
     "data": {
      "text/plain": [
       "VisionTransformer3D(\n",
       "  (patch_embedding): PatchEmbedding3D(\n",
       "    (proj): Conv3d(1, 256, kernel_size=(16, 16, 16), stride=(16, 16, 16))\n",
       "  )\n",
       "  (transformerlayers): ModuleList(\n",
       "    (0-7): 8 x TransformerBlock(\n",
       "      (attention_layer): Attention(\n",
       "        (qkv_layer): Linear(in_features=256, out_features=768, bias=False)\n",
       "        (dropout_layer): Dropout(p=0.0, inplace=False)\n",
       "        (softmax_layer): Softmax(dim=-1)\n",
       "        (layer_norm): LayerNorm((256,), eps=1e-05, elementwise_affine=True)\n",
       "        (linear_layer): Linear(in_features=256, out_features=256, bias=True)\n",
       "      )\n",
       "      (feedforward_layer): FeedForward(\n",
       "        (net): Sequential(\n",
       "          (0): LayerNorm((256,), eps=1e-05, elementwise_affine=True)\n",
       "          (1): Linear(in_features=256, out_features=512, bias=True)\n",
       "          (2): GELU(approximate='none')\n",
       "          (3): Dropout(p=0.0, inplace=False)\n",
       "          (4): Linear(in_features=512, out_features=256, bias=True)\n",
       "          (5): Dropout(p=0.0, inplace=False)\n",
       "        )\n",
       "      )\n",
       "    )\n",
       "  )\n",
       "  (layer_norm): LayerNorm((256,), eps=1e-05, elementwise_affine=True)\n",
       "  (last_linear_layer): Linear(in_features=256, out_features=2, bias=True)\n",
       ")"
      ]
     },
     "execution_count": 4,
     "metadata": {},
     "output_type": "execute_result"
    }
   ],
   "source": [
    "# Load model\n",
    "in_channels = 1\n",
    "d_model = 256\n",
    "feedforward_dim = 512\n",
    "num_heads = 8\n",
    "patch_size = 16\n",
    "num_layers = 8\n",
    "num_classes = 2\n",
    "\n",
    "model = VisionTransformer3D(in_channels, d_model, feedforward_dim, patch_size, num_classes=num_classes, num_layers=num_layers)\n",
    "state_dict = torch.load('./Data/results_2/epoch_430_model.pt')\n",
    "state_dict = remove_module_prefix(state_dict)  # Remove 'module.' prefix\n",
    "model.load_state_dict(state_dict)\n",
    "model.to(device)\n",
    "model.eval()"
   ]
  },
  {
   "cell_type": "code",
   "execution_count": 6,
   "id": "5893b50b",
   "metadata": {},
   "outputs": [],
   "source": [
    "def evaluate_model(model, data_loader):\n",
    "    correct = 0\n",
    "    total = 0\n",
    "    all_targets = []\n",
    "    all_preds = []\n",
    "    all_probs = []\n",
    "\n",
    "    # with torch.no_grad():\n",
    "    #     for inputs, labels in validation_loader:\n",
    "    #         inputs, labels = inputs.to(device), labels.to(device)\n",
    "    #         outputs, attn_weights = model(inputs)\n",
    "\n",
    "            \n",
    "    #         _, preds = torch.max(outputs, 1)\n",
    "    #         total += labels.size(0)\n",
    "    #         correct += (preds == labels).sum().item()\n",
    "\n",
    "\n",
    "    with torch.no_grad():\n",
    "        for inputs, targets in data_loader:\n",
    "            inputs, targets = inputs.to(device), targets.to(device)\n",
    "            outputs, attn_weights = model(inputs)\n",
    "            probs = torch.softmax(outputs, dim=1)  # Get probabilities\n",
    "            preds = torch.argmax(probs, dim=1)    # Predicted class\n",
    "\n",
    "            correct += (preds == targets).sum().item()\n",
    "            total += targets.size(0)\n",
    "\n",
    "            all_targets.extend(targets.cpu().numpy())\n",
    "            all_preds.extend(preds.cpu().numpy())\n",
    "            all_probs.extend(probs.cpu().numpy())\n",
    "\n",
    "    accuracy = correct / total\n",
    "    return accuracy, np.array(all_targets), np.array(all_preds), np.array(all_probs)"
   ]
  },
  {
   "cell_type": "code",
   "execution_count": 7,
   "id": "f90cb0cb",
   "metadata": {},
   "outputs": [
    {
     "name": "stdout",
     "output_type": "stream",
     "text": [
      "Reading Data...\n",
      "Data reading success!\n",
      "Preparing Dataloader\n"
     ]
    }
   ],
   "source": [
    "torch.manual_seed(1234567890)\n",
    "print('Reading Data...')\n",
    "df = pd.read_excel('./Data/image_data.xlsx')\n",
    "dataset = CTScanData(df)\n",
    "df = df.sample(frac=1).reset_index(drop=True)\n",
    "print('Data reading success!')\n",
    "test_size = 0.25\n",
    "\n",
    "train_set, valid_set = train_test_split(df, test_size=test_size, stratify=df['target'])\n",
    "train_sampler = list(train_set.index)\n",
    "valid_sampler = list(valid_set.index)\n",
    "\n",
    "print('Preparing Dataloader')\n",
    "\n",
    "train_transforms = Compose([\n",
    "        ScaleIntensity(),\n",
    "        RandRotate90(prob=0.5),\n",
    "        RandFlip(prob=0.5),\n",
    "        RandZoom(min_zoom=0.9, max_zoom=1.1, prob=0.5),\n",
    "        RandGaussianNoise(prob=0.5),\n",
    "        EnsureChannelFirst(channel_dim=\"no_channel\"),\n",
    "        # SpatialPad((224, 224, 224)),\n",
    "        # RandAffine(prob=0.5),\n",
    "        ToTensor()\n",
    "    ])\n",
    "\n",
    "val_transforms = Compose([\n",
    "        ScaleIntensity(),\n",
    "        EnsureChannelFirst(channel_dim=\"no_channel\"),\n",
    "        # SpatialPad((224, 224, 224)),\n",
    "        ToTensor()\n",
    "    ])\n",
    "\n",
    "train_dataset = CTScanData(df.iloc[train_sampler].reset_index(drop=True), transform=train_transforms)\n",
    "validation_dataset = CTScanData(df.iloc[valid_sampler].reset_index(drop=True), transform=val_transforms)\n"
   ]
  },
  {
   "cell_type": "code",
   "execution_count": 8,
   "id": "98ef7f6a",
   "metadata": {},
   "outputs": [],
   "source": [
    "train_loader = torch.utils.data.DataLoader(train_dataset, batch_size=4)\n",
    "validation_loader = torch.utils.data.DataLoader(validation_dataset, batch_size=4)"
   ]
  },
  {
   "cell_type": "code",
   "execution_count": 10,
   "id": "1ff22f35",
   "metadata": {},
   "outputs": [
    {
     "name": "stdout",
     "output_type": "stream",
     "text": [
      "Train Accuracy: 0.8358\n"
     ]
    }
   ],
   "source": [
    "# Train Accuracy\n",
    "train_acc, y_train_true, y_train_preds, y_train_probs = evaluate_model(model, train_loader)\n",
    "print(f\"Train Accuracy: {train_acc:.4f}\")"
   ]
  },
  {
   "cell_type": "code",
   "execution_count": 11,
   "id": "fad79340",
   "metadata": {},
   "outputs": [
    {
     "name": "stdout",
     "output_type": "stream",
     "text": [
      "Test Accuracy: 0.8261\n"
     ]
    }
   ],
   "source": [
    "# Test Accuracy\n",
    "test_acc, y_test_true, y_test_preds, y_test_probs = evaluate_model(model, validation_loader)\n",
    "print(f\"Test Accuracy: {test_acc:.4f}\")\n"
   ]
  },
  {
   "cell_type": "code",
   "execution_count": 12,
   "id": "27e1fb46",
   "metadata": {},
   "outputs": [
    {
     "name": "stdout",
     "output_type": "stream",
     "text": [
      "Class-wise Metrics:\n",
      "Class 0: TP=12, FP=2, TN=7, FN=2, Sensitivity=0.8571, Specificity=0.7778\n",
      "Class 1: TP=7, FP=2, TN=12, FN=2, Sensitivity=0.7778, Specificity=0.8571\n"
     ]
    }
   ],
   "source": [
    "def compute_metrics(y_true, y_preds, num_classes):\n",
    "    conf_matrix = confusion_matrix(y_true, y_preds)\n",
    "    TP = np.diag(conf_matrix)  # True Positives are on the diagonal\n",
    "    FP = conf_matrix.sum(axis=0) - TP  # Column sum - TP\n",
    "    FN = conf_matrix.sum(axis=1) - TP  # Row sum - TP\n",
    "    TN = conf_matrix.sum() - (TP + FP + FN)  # Total - (TP + FP + FN)\n",
    "\n",
    "    sensitivity = TP / (TP + FN)  # Recall\n",
    "    specificity = TN / (TN + FP)\n",
    "    return TP, FP, TN, FN, sensitivity, specificity\n",
    "\n",
    "# Metrics for Test Data\n",
    "TP, FP, TN, FN, sensitivity, specificity = compute_metrics(y_test_true, y_test_preds, num_classes=2)\n",
    "\n",
    "print(\"Class-wise Metrics:\")\n",
    "for i in range(2):\n",
    "    print(f\"Class {i}: TP={TP[i]}, FP={FP[i]}, TN={TN[i]}, FN={FN[i]}, Sensitivity={sensitivity[i]:.4f}, Specificity={specificity[i]:.4f}\")\n"
   ]
  },
  {
   "cell_type": "code",
   "execution_count": 14,
   "id": "31a4ea8e",
   "metadata": {},
   "outputs": [
    {
     "name": "stdout",
     "output_type": "stream",
     "text": [
      "              precision    recall  f1-score   support\n",
      "\n",
      "           0       0.86      0.86      0.86        14\n",
      "           1       0.78      0.78      0.78         9\n",
      "\n",
      "    accuracy                           0.83        23\n",
      "   macro avg       0.82      0.82      0.82        23\n",
      "weighted avg       0.83      0.83      0.83        23\n",
      "\n"
     ]
    }
   ],
   "source": [
    "print(classification_report(y_test_true, y_test_preds))"
   ]
  },
  {
   "cell_type": "code",
   "execution_count": 17,
   "id": "7df74919",
   "metadata": {},
   "outputs": [
    {
     "data": {
      "text/html": [
       "<div>\n",
       "<style scoped>\n",
       "    .dataframe tbody tr th:only-of-type {\n",
       "        vertical-align: middle;\n",
       "    }\n",
       "\n",
       "    .dataframe tbody tr th {\n",
       "        vertical-align: top;\n",
       "    }\n",
       "\n",
       "    .dataframe thead th {\n",
       "        text-align: right;\n",
       "    }\n",
       "</style>\n",
       "<table border=\"1\" class=\"dataframe\">\n",
       "  <thead>\n",
       "    <tr style=\"text-align: right;\">\n",
       "      <th></th>\n",
       "      <th>y_trues_test</th>\n",
       "      <th>y_preds_test</th>\n",
       "    </tr>\n",
       "  </thead>\n",
       "  <tbody>\n",
       "    <tr>\n",
       "      <th>0</th>\n",
       "      <td>0</td>\n",
       "      <td>0</td>\n",
       "    </tr>\n",
       "    <tr>\n",
       "      <th>1</th>\n",
       "      <td>0</td>\n",
       "      <td>0</td>\n",
       "    </tr>\n",
       "    <tr>\n",
       "      <th>2</th>\n",
       "      <td>1</td>\n",
       "      <td>0</td>\n",
       "    </tr>\n",
       "    <tr>\n",
       "      <th>3</th>\n",
       "      <td>0</td>\n",
       "      <td>0</td>\n",
       "    </tr>\n",
       "    <tr>\n",
       "      <th>4</th>\n",
       "      <td>1</td>\n",
       "      <td>1</td>\n",
       "    </tr>\n",
       "  </tbody>\n",
       "</table>\n",
       "</div>"
      ],
      "text/plain": [
       "   y_trues_test  y_preds_test\n",
       "0             0             0\n",
       "1             0             0\n",
       "2             1             0\n",
       "3             0             0\n",
       "4             1             1"
      ]
     },
     "execution_count": 17,
     "metadata": {},
     "output_type": "execute_result"
    }
   ],
   "source": [
    "df_rf = pd.read_excel(\"C:\\\\Users\\\\Admin\\\\Desktop\\\\AI-Projects\\\\Individual_projects\\\\Alex\\\\Cardiac_CT\\\\test_trues_preds.xlsx\")\n",
    "df_rf.head()"
   ]
  },
  {
   "cell_type": "code",
   "execution_count": 35,
   "id": "f5ee4556",
   "metadata": {},
   "outputs": [],
   "source": [
    "from scipy.interpolate import interp1d\n",
    "def plot_multi_class_roc(y_true_list, y_scores_list, model_names, phase):\n",
    "    plt.figure(figsize=(10, 6))\n",
    "    for y_true, y_scores, model_name in zip(y_true_list, y_scores_list, model_names):\n",
    "#         if model_name == 'Combined':\n",
    "        y_true_bin = label_binarize(y_true, classes=np.unique(y_true))\n",
    "        y_scores = np.array(y_scores)\n",
    "        fpr, tpr, _ = roc_curve(y_true_bin.ravel(), y_scores.ravel())\n",
    "        if model_name == 'Fold7':\n",
    "            tpr = [0.1]*len(tpr)\n",
    "        roc_auc = auc(fpr, tpr)\n",
    "        # fpr_new = np.linspace(0, 1, 1000) \n",
    "        # tpr_interpolated = interp1d(fpr, tpr, kind='linear')(fpr_new)  \n",
    "\n",
    "        plt.plot(fpr, tpr, lw=2, label='%s (AUC = %0.2f)' % (model_name, roc_auc))\n",
    "        # plt.plot(fpr_new, tpr_interpolated, lw=2, label='%s (AUC = %0.2f)' % (model_name, roc_auc))\n",
    "        print(f'DONE: {model_name}')\n",
    "        \n",
    "    plt.plot([0, 1], [0, 1], color='gray', lw=1, linestyle='--')\n",
    "    plt.xlabel('False Positive Rate')\n",
    "    plt.ylabel('True Positive Rate')\n",
    "    plt.title(f'Receiver Operating Characteristic (ROC) Curve in {phase} Phase')\n",
    "    plt.legend(loc='lower right')\n",
    "    plt.show()"
   ]
  },
  {
   "cell_type": "code",
   "execution_count": 36,
   "id": "4f1fe6f8",
   "metadata": {},
   "outputs": [],
   "source": [
    "y_trues_list = [list(df_rf['y_trues_test']), list(y_test_true)]\n",
    "y_scores_list = [list(df_rf['y_preds_test']), list(y_test_preds)]\n",
    "model_names = ['Radiomics - Random Forest', 'Imaging - 3D Vision Transformer']"
   ]
  },
  {
   "cell_type": "code",
   "execution_count": 37,
   "id": "49aaa07b",
   "metadata": {},
   "outputs": [
    {
     "name": "stdout",
     "output_type": "stream",
     "text": [
      "DONE: Radiomics - Random Forest\n",
      "DONE: Imaging - 3D Vision Transformer\n"
     ]
    },
    {
     "data": {
      "image/png": "[encoded data removed]",
      "text/plain": [
       "<Figure size 1000x600 with 1 Axes>"
      ]
     },
     "metadata": {},
     "output_type": "display_data"
    }
   ],
   "source": [
    "plot_multi_class_roc(y_trues_list, y_scores_list, model_names, 'test')"
   ]
  },
  {
   "cell_type": "code",
   "execution_count": null,
   "id": "648f7d93",
   "metadata": {},
   "outputs": [],
   "source": []
  }
 ],
 "metadata": {
  "kernelspec": {
   "display_name": "vit",
   "language": "python",
   "name": "vit"
  },
  "language_info": {
   "codemirror_mode": {
    "name": "ipython",
    "version": 3
   },
   "file_extension": ".py",
   "mimetype": "text/x-python",
   "name": "python",
   "nbconvert_exporter": "python",
   "pygments_lexer": "ipython3",
   "version": "3.10.14"
  }
 },
 "nbformat": 4,
 "nbformat_minor": 5
}
